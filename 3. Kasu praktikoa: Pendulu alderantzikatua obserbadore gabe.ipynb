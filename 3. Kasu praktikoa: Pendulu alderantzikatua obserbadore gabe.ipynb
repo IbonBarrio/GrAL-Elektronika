{
 "cells": [
  {
   "cell_type": "code",
   "execution_count": 1,
   "metadata": {},
   "outputs": [],
   "source": [
    "import matplotlib.pyplot as plt\n",
    "import numpy as np\n",
    "import math\n",
    "import time\n",
    "import cvxpy\n",
    "\n",
    "import os\n",
    "import imageio\n",
    "import random\n",
    "from matplotlib import animation\n",
    "from mpl_toolkits.mplot3d import Axes3D\n",
    "from decimal import Decimal \n",
    "import matplotlib.patches as patch"
   ]
  },
  {
   "cell_type": "code",
   "execution_count": 2,
   "metadata": {},
   "outputs": [
    {
     "name": "stdout",
     "output_type": "stream",
     "text": [
      "[[ 0.          1.          0.          0.        ]\n",
      " [ 0.         -0.21276596  3.87926769  0.        ]\n",
      " [ 0.          0.          0.          1.        ]\n",
      " [ 0.         -0.09896091  6.78871846  0.        ]]\n",
      "[[0.        ]\n",
      " [1.99406235]\n",
      " [0.        ]\n",
      " [0.9896091 ]]\n",
      "[[ 1.          0.1         0.          0.        ]\n",
      " [ 0.          0.9787234   0.38792677  0.        ]\n",
      " [ 0.          0.          1.          0.1       ]\n",
      " [ 0.         -0.00989609  0.67887185  1.        ]]\n",
      "[[0.        ]\n",
      " [0.19940623]\n",
      " [0.        ]\n",
      " [0.09896091]]\n"
     ]
    }
   ],
   "source": [
    "#PARAMETROEN DEFINIZIOA\n",
    "animation=True\n",
    "\n",
    "M = 0.5;\n",
    "m = 0.2;\n",
    "b = 0.1;\n",
    "I = 0.006;\n",
    "g = 9.8;\n",
    "l = 2.0;\n",
    "l_bar=l\n",
    "T=30 \n",
    "nx = 4   # number of state\n",
    "nu = 1   # number of input\n",
    "T = 30  # Horizon length\n",
    "\n",
    "p = I*(M+m)+M*m*l**2\n",
    "\n",
    "\n",
    "A = np. array([\n",
    "    [0, 1, 0, 0],\n",
    "    [0, -(I+m*(l**2)*b)/p,  ((m**2)*g*(l**2))/p,   0],\n",
    "    [0,  0,  0, 1],\n",
    "    [0, -(m*l*b)/p,       m*g*l*(M+m)/p,  0]])\n",
    "\n",
    "B =np.array([\n",
    "    [0],\n",
    "    [(I+m*l**2)/p],\n",
    "    [0],\n",
    "    [m*l/p]])\n",
    "\n",
    "C=np.array([\n",
    "    [1,0,0,0],\n",
    "    [0,0,1,0]])\n",
    "\n",
    "D=np.array([\n",
    "    [0],\n",
    "    [0]])\n",
    "\n",
    "#sys_ss =control.ss(A,B,C,D)\n",
    "#Ts=0.01 #lagintze peridoa \n",
    "#sys_d = control.c2d(sys_ss,Ts,'zoh')\n",
    "#print(sys_d)\n",
    "\n",
    "#A = sys_d.A\n",
    "#B = sys_d.B\n",
    "#C = sys_d.C\n",
    "#D = sys_d.D\n",
    "\n",
    "print(A)\n",
    "print(B)\n",
    "\n",
    "delta_t=0.1\n",
    "A = np.eye(nx) + delta_t * A\n",
    "B = delta_t * B\n",
    "\n",
    "print(A)\n",
    "print(B)"
   ]
  },
  {
   "cell_type": "markdown",
   "metadata": {},
   "source": [
    "Gure egoera bektorea honakoa izango da: \n",
    "$x=(x_1,x_2,x_3,x_4)=(r,theta,r',theta')$\n",
    "\n"
   ]
  },
  {
   "cell_type": "code",
   "execution_count": 4,
   "metadata": {},
   "outputs": [],
   "source": [
    "def get_nparray_from_matrix(x):\n",
    "    return np.array(x).flatten()\n",
    "\n",
    "def flatten(a):\n",
    "    return np.array(a).flatten()"
   ]
  },
  {
   "cell_type": "code",
   "execution_count": 5,
   "metadata": {},
   "outputs": [],
   "source": [
    "def mpc_control(x0,Q,R):\n",
    "\n",
    "    x = cvxpy.Variable((nx, T + 1))\n",
    "    u = cvxpy.Variable((nu, T))\n",
    "\n",
    "    cost = 0.0\n",
    "    constr = []\n",
    "    for t in range(T):\n",
    "        cost += cvxpy.quad_form(x[:, t + 1], Q)\n",
    "        cost += cvxpy.quad_form(u[:, t], R)\n",
    "        \n",
    "        #BALDINTZAK\n",
    "        \n",
    "        constr += [x[:, t + 1] == A * x[:, t] + B * u[:, t]]\n",
    "    constr += [x[:, 0] == x0[:, 0]] #hasierako egoera bete behar da \n",
    "    \n",
    "    #MPC optimizazioa ---> Gure koste funtzioa minimoa izatea \n",
    "    prob = cvxpy.Problem(cvxpy.Minimize(cost), constr)\n",
    "\n",
    "    start = time.time()\n",
    "    prob.solve(verbose=False)\n",
    "    elapsed_time = time.time() - start\n",
    "\n",
    "    if prob.status == cvxpy.OPTIMAL:\n",
    "        ox = get_nparray_from_matrix(x.value[0, :]) #r-ren balioa\n",
    "        dx = get_nparray_from_matrix(x.value[1, :]) #r'-ren balioa \n",
    "        theta = get_nparray_from_matrix(x.value[2, :]) #angelua \n",
    "        dtheta = get_nparray_from_matrix(x.value[3, :]) #angeluaren deribatua \n",
    "\n",
    "        ou = get_nparray_from_matrix(u.value[0, :]) #kontrol seinalea \n",
    "\n",
    "    return ox, dx, theta, dtheta, ou"
   ]
  },
  {
   "cell_type": "code",
   "execution_count": 6,
   "metadata": {},
   "outputs": [],
   "source": [
    "def simulation(x, u): #xberria kalkulatzeko funtzioa \n",
    "\n",
    "    x = np.dot(A, x) + np.dot(B, u)\n",
    "    \n",
    "    return x"
   ]
  },
  {
   "cell_type": "code",
   "execution_count": 7,
   "metadata": {},
   "outputs": [],
   "source": [
    "def show_cart(xt, theta): #Dagokion posizioan irudikatzen dugu karritoa \n",
    "    cart_w = 1.0\n",
    "    cart_h = 0.5\n",
    "    radius = 0.1\n",
    "\n",
    "    cx = np.matrix([-cart_w / 2.0, cart_w / 2.0, cart_w /\n",
    "                    2.0, -cart_w / 2.0, -cart_w / 2.0])\n",
    "    cy = np.matrix([0.0, 0.0, cart_h, cart_h, 0.0])\n",
    "    cy += radius * 2.0\n",
    "\n",
    "    cx = cx + xt\n",
    "\n",
    "    bx = np.matrix([0.0, l_bar * math.sin(-theta)])\n",
    "    bx += xt\n",
    "    by = np.matrix([cart_h, l_bar * math.cos(-theta) + cart_h])\n",
    "    by += radius * 2.0\n",
    "\n",
    "    angles = np.arange(0.0, math.pi * 2.0, math.radians(3.0))\n",
    "    ox = [radius * math.cos(a) for a in angles]\n",
    "    oy = [radius * math.sin(a) for a in angles]\n",
    "\n",
    "    rwx = np.copy(ox) + cart_w / 4.0 + xt\n",
    "    rwy = np.copy(oy) + radius\n",
    "    lwx = np.copy(ox) - cart_w / 4.0 + xt\n",
    "    lwy = np.copy(oy) + radius\n",
    "\n",
    "    wx = np.copy(ox) + float(bx[0, -1])\n",
    "    wy = np.copy(oy) + float(by[0, -1])\n",
    "\n",
    "    plt.plot(flatten(cx), flatten(cy), \"-b\")\n",
    "    plt.plot(flatten(bx), flatten(by), \"-k\")\n",
    "    plt.plot(flatten(rwx), flatten(rwy), \"-k\")\n",
    "    plt.plot(flatten(lwx), flatten(lwy), \"-k\")\n",
    "    plt.plot(flatten(wx), flatten(wy), \"-k\")\n",
    "    plt.title(\"x:\" + str(round(xt, 2)) + \",theta:\" +\n",
    "              str(round(math.degrees(theta), 2)))\n",
    "\n",
    "    plt.axis(\"equal\")\n"
   ]
  },
  {
   "cell_type": "code",
   "execution_count": 9,
   "metadata": {
    "scrolled": false
   },
   "outputs": [
    {
     "name": "stdout",
     "output_type": "stream",
     "text": [
      "[[  1.   0.   0.   0.]\n",
      " [  0.   0.   0.   0.]\n",
      " [  0.   0. 100.   0.]\n",
      " [  0.   0.   0.   0.]]\n"
     ]
    },
    {
     "name": "stderr",
     "output_type": "stream",
     "text": [
      "C:\\Users\\usuario\\Anaconda3\\lib\\site-packages\\matplotlib\\pyplot.py:514: RuntimeWarning: More than 20 figures have been opened. Figures created through the pyplot interface (`matplotlib.pyplot.figure`) are retained until explicitly closed and may consume too much memory. (To control this warning, see the rcParam `figure.max_open_warning`).\n",
      "  max_open_warning, RuntimeWarning)\n"
     ]
    },
    {
     "name": "stdout",
     "output_type": "stream",
     "text": [
      "[-2.7129172] [0.16224082]\n",
      "[-3.50511288] [1.15116253]\n",
      "[-0.22480931] [0.33]\n",
      "[-0.98413057] [0.17987613]\n",
      "-10.45857001715516 2.327749883427765\n",
      "[[100.   0.   0.   0.]\n",
      " [  0.   0.   0.   0.]\n",
      " [  0.   0.   1.   0.]\n",
      " [  0.   0.   0.   0.]]\n",
      "[-2.05307907] [0.]\n",
      "[-5.8896199] [2.15637312]\n",
      "[-0.40749443] [0.33]\n",
      "[-2.31968303] [0.79306216]\n",
      "-24.762984125621184 9.1062231734915\n"
     ]
    },
    {
     "data": {
      "image/png": "[encoded data removed]",
      "text/plain": [
       "<Figure size 540x720 with 5 Axes>"
      ]
     },
     "metadata": {
      "needs_background": "light"
     },
     "output_type": "display_data"
    },
    {
     "data": {
      "text/plain": [
       "<Figure size 432x288 with 0 Axes>"
      ]
     },
     "metadata": {},
     "output_type": "display_data"
    },
    {
     "data": {
      "text/plain": [
       "<Figure size 432x288 with 0 Axes>"
      ]
     },
     "metadata": {},
     "output_type": "display_data"
    },
    {
     "data": {
      "text/plain": [
       "<Figure size 432x288 with 0 Axes>"
      ]
     },
     "metadata": {},
     "output_type": "display_data"
    },
    {
     "data": {
      "text/plain": [
       "<Figure size 432x288 with 0 Axes>"
      ]
     },
     "metadata": {},
     "output_type": "display_data"
    },
    {
     "data": {
      "text/plain": [
       "<Figure size 432x288 with 0 Axes>"
      ]
     },
     "metadata": {},
     "output_type": "display_data"
    },
    {
     "data": {
      "text/plain": [
       "<Figure size 432x288 with 0 Axes>"
      ]
     },
     "metadata": {},
     "output_type": "display_data"
    },
    {
     "data": {
      "text/plain": [
       "<Figure size 432x288 with 0 Axes>"
      ]
     },
     "metadata": {},
     "output_type": "display_data"
    },
    {
     "data": {
      "text/plain": [
       "<Figure size 432x288 with 0 Axes>"
      ]
     },
     "metadata": {},
     "output_type": "display_data"
    },
    {
     "data": {
      "text/plain": [
       "<Figure size 432x288 with 0 Axes>"
      ]
     },
     "metadata": {},
     "output_type": "display_data"
    },
    {
     "data": {
      "text/plain": [
       "<Figure size 432x288 with 0 Axes>"
      ]
     },
     "metadata": {},
     "output_type": "display_data"
    },
    {
     "data": {
      "text/plain": [
       "<Figure size 432x288 with 0 Axes>"
      ]
     },
     "metadata": {},
     "output_type": "display_data"
    },
    {
     "data": {
      "text/plain": [
       "<Figure size 432x288 with 0 Axes>"
      ]
     },
     "metadata": {},
     "output_type": "display_data"
    },
    {
     "data": {
      "text/plain": [
       "<Figure size 432x288 with 0 Axes>"
      ]
     },
     "metadata": {},
     "output_type": "display_data"
    },
    {
     "data": {
      "text/plain": [
       "<Figure size 432x288 with 0 Axes>"
      ]
     },
     "metadata": {},
     "output_type": "display_data"
    },
    {
     "data": {
      "text/plain": [
       "<Figure size 432x288 with 0 Axes>"
      ]
     },
     "metadata": {},
     "output_type": "display_data"
    },
    {
     "data": {
      "text/plain": [
       "<Figure size 432x288 with 0 Axes>"
      ]
     },
     "metadata": {},
     "output_type": "display_data"
    },
    {
     "data": {
      "text/plain": [
       "<Figure size 432x288 with 0 Axes>"
      ]
     },
     "metadata": {},
     "output_type": "display_data"
    },
    {
     "data": {
      "text/plain": [
       "<Figure size 432x288 with 0 Axes>"
      ]
     },
     "metadata": {},
     "output_type": "display_data"
    },
    {
     "data": {
      "text/plain": [
       "<Figure size 432x288 with 0 Axes>"
      ]
     },
     "metadata": {},
     "output_type": "display_data"
    },
    {
     "data": {
      "text/plain": [
       "<Figure size 432x288 with 0 Axes>"
      ]
     },
     "metadata": {},
     "output_type": "display_data"
    },
    {
     "data": {
      "text/plain": [
       "<Figure size 432x288 with 0 Axes>"
      ]
     },
     "metadata": {},
     "output_type": "display_data"
    },
    {
     "data": {
      "text/plain": [
       "<Figure size 432x288 with 0 Axes>"
      ]
     },
     "metadata": {},
     "output_type": "display_data"
    },
    {
     "data": {
      "text/plain": [
       "<Figure size 432x288 with 0 Axes>"
      ]
     },
     "metadata": {},
     "output_type": "display_data"
    },
    {
     "data": {
      "text/plain": [
       "<Figure size 432x288 with 0 Axes>"
      ]
     },
     "metadata": {},
     "output_type": "display_data"
    },
    {
     "data": {
      "text/plain": [
       "<Figure size 432x288 with 0 Axes>"
      ]
     },
     "metadata": {},
     "output_type": "display_data"
    },
    {
     "data": {
      "text/plain": [
       "<Figure size 432x288 with 0 Axes>"
      ]
     },
     "metadata": {},
     "output_type": "display_data"
    },
    {
     "data": {
      "text/plain": [
       "<Figure size 432x288 with 0 Axes>"
      ]
     },
     "metadata": {},
     "output_type": "display_data"
    },
    {
     "data": {
      "text/plain": [
       "<Figure size 432x288 with 0 Axes>"
      ]
     },
     "metadata": {},
     "output_type": "display_data"
    },
    {
     "data": {
      "text/plain": [
       "<Figure size 432x288 with 0 Axes>"
      ]
     },
     "metadata": {},
     "output_type": "display_data"
    },
    {
     "data": {
      "text/plain": [
       "<Figure size 432x288 with 0 Axes>"
      ]
     },
     "metadata": {},
     "output_type": "display_data"
    },
    {
     "data": {
      "text/plain": [
       "<Figure size 432x288 with 0 Axes>"
      ]
     },
     "metadata": {},
     "output_type": "display_data"
    },
    {
     "data": {
      "text/plain": [
       "<Figure size 432x288 with 0 Axes>"
      ]
     },
     "metadata": {},
     "output_type": "display_data"
    },
    {
     "data": {
      "text/plain": [
       "<Figure size 432x288 with 0 Axes>"
      ]
     },
     "metadata": {},
     "output_type": "display_data"
    },
    {
     "data": {
      "text/plain": [
       "<Figure size 432x288 with 0 Axes>"
      ]
     },
     "metadata": {},
     "output_type": "display_data"
    },
    {
     "data": {
      "text/plain": [
       "<Figure size 432x288 with 0 Axes>"
      ]
     },
     "metadata": {},
     "output_type": "display_data"
    },
    {
     "data": {
      "text/plain": [
       "<Figure size 432x288 with 0 Axes>"
      ]
     },
     "metadata": {},
     "output_type": "display_data"
    },
    {
     "data": {
      "text/plain": [
       "<Figure size 432x288 with 0 Axes>"
      ]
     },
     "metadata": {},
     "output_type": "display_data"
    },
    {
     "data": {
      "text/plain": [
       "<Figure size 432x288 with 0 Axes>"
      ]
     },
     "metadata": {},
     "output_type": "display_data"
    },
    {
     "data": {
      "text/plain": [
       "<Figure size 432x288 with 0 Axes>"
      ]
     },
     "metadata": {},
     "output_type": "display_data"
    },
    {
     "data": {
      "text/plain": [
       "<Figure size 432x288 with 0 Axes>"
      ]
     },
     "metadata": {},
     "output_type": "display_data"
    },
    {
     "data": {
      "text/plain": [
       "<Figure size 432x288 with 0 Axes>"
      ]
     },
     "metadata": {},
     "output_type": "display_data"
    },
    {
     "data": {
      "text/plain": [
       "<Figure size 432x288 with 0 Axes>"
      ]
     },
     "metadata": {},
     "output_type": "display_data"
    },
    {
     "data": {
      "text/plain": [
       "<Figure size 432x288 with 0 Axes>"
      ]
     },
     "metadata": {},
     "output_type": "display_data"
    },
    {
     "data": {
      "text/plain": [
       "<Figure size 432x288 with 0 Axes>"
      ]
     },
     "metadata": {},
     "output_type": "display_data"
    },
    {
     "data": {
      "text/plain": [
       "<Figure size 432x288 with 0 Axes>"
      ]
     },
     "metadata": {},
     "output_type": "display_data"
    },
    {
     "data": {
      "text/plain": [
       "<Figure size 432x288 with 0 Axes>"
      ]
     },
     "metadata": {},
     "output_type": "display_data"
    },
    {
     "data": {
      "text/plain": [
       "<Figure size 432x288 with 0 Axes>"
      ]
     },
     "metadata": {},
     "output_type": "display_data"
    },
    {
     "data": {
      "text/plain": [
       "<Figure size 432x288 with 0 Axes>"
      ]
     },
     "metadata": {},
     "output_type": "display_data"
    },
    {
     "data": {
      "text/plain": [
       "<Figure size 432x288 with 0 Axes>"
      ]
     },
     "metadata": {},
     "output_type": "display_data"
    },
    {
     "data": {
      "text/plain": [
       "<Figure size 432x288 with 0 Axes>"
      ]
     },
     "metadata": {},
     "output_type": "display_data"
    },
    {
     "data": {
      "text/plain": [
       "<Figure size 432x288 with 0 Axes>"
      ]
     },
     "metadata": {},
     "output_type": "display_data"
    },
    {
     "data": {
      "text/plain": [
       "<Figure size 432x288 with 0 Axes>"
      ]
     },
     "metadata": {},
     "output_type": "display_data"
    },
    {
     "data": {
      "text/plain": [
       "<Figure size 432x288 with 0 Axes>"
      ]
     },
     "metadata": {},
     "output_type": "display_data"
    },
    {
     "data": {
      "text/plain": [
       "<Figure size 432x288 with 0 Axes>"
      ]
     },
     "metadata": {},
     "output_type": "display_data"
    },
    {
     "data": {
      "text/plain": [
       "<Figure size 432x288 with 0 Axes>"
      ]
     },
     "metadata": {},
     "output_type": "display_data"
    },
    {
     "data": {
      "text/plain": [
       "<Figure size 432x288 with 0 Axes>"
      ]
     },
     "metadata": {},
     "output_type": "display_data"
    },
    {
     "data": {
      "text/plain": [
       "<Figure size 432x288 with 0 Axes>"
      ]
     },
     "metadata": {},
     "output_type": "display_data"
    },
    {
     "data": {
      "text/plain": [
       "<Figure size 432x288 with 0 Axes>"
      ]
     },
     "metadata": {},
     "output_type": "display_data"
    },
    {
     "data": {
      "text/plain": [
       "<Figure size 432x288 with 0 Axes>"
      ]
     },
     "metadata": {},
     "output_type": "display_data"
    },
    {
     "data": {
      "text/plain": [
       "<Figure size 432x288 with 0 Axes>"
      ]
     },
     "metadata": {},
     "output_type": "display_data"
    },
    {
     "data": {
      "text/plain": [
       "<Figure size 432x288 with 0 Axes>"
      ]
     },
     "metadata": {},
     "output_type": "display_data"
    },
    {
     "data": {
      "text/plain": [
       "<Figure size 432x288 with 0 Axes>"
      ]
     },
     "metadata": {},
     "output_type": "display_data"
    },
    {
     "data": {
      "text/plain": [
       "<Figure size 432x288 with 0 Axes>"
      ]
     },
     "metadata": {},
     "output_type": "display_data"
    },
    {
     "data": {
      "text/plain": [
       "<Figure size 432x288 with 0 Axes>"
      ]
     },
     "metadata": {},
     "output_type": "display_data"
    },
    {
     "data": {
      "text/plain": [
       "<Figure size 432x288 with 0 Axes>"
      ]
     },
     "metadata": {},
     "output_type": "display_data"
    },
    {
     "data": {
      "text/plain": [
       "<Figure size 432x288 with 0 Axes>"
      ]
     },
     "metadata": {},
     "output_type": "display_data"
    },
    {
     "data": {
      "text/plain": [
       "<Figure size 432x288 with 0 Axes>"
      ]
     },
     "metadata": {},
     "output_type": "display_data"
    },
    {
     "data": {
      "text/plain": [
       "<Figure size 432x288 with 0 Axes>"
      ]
     },
     "metadata": {},
     "output_type": "display_data"
    },
    {
     "data": {
      "text/plain": [
       "<Figure size 432x288 with 0 Axes>"
      ]
     },
     "metadata": {},
     "output_type": "display_data"
    },
    {
     "data": {
      "text/plain": [
       "<Figure size 432x288 with 0 Axes>"
      ]
     },
     "metadata": {},
     "output_type": "display_data"
    },
    {
     "data": {
      "text/plain": [
       "<Figure size 432x288 with 0 Axes>"
      ]
     },
     "metadata": {},
     "output_type": "display_data"
    },
    {
     "data": {
      "text/plain": [
       "<Figure size 432x288 with 0 Axes>"
      ]
     },
     "metadata": {},
     "output_type": "display_data"
    },
    {
     "data": {
      "text/plain": [
       "<Figure size 432x288 with 0 Axes>"
      ]
     },
     "metadata": {},
     "output_type": "display_data"
    },
    {
     "data": {
      "text/plain": [
       "<Figure size 432x288 with 0 Axes>"
      ]
     },
     "metadata": {},
     "output_type": "display_data"
    },
    {
     "data": {
      "text/plain": [
       "<Figure size 432x288 with 0 Axes>"
      ]
     },
     "metadata": {},
     "output_type": "display_data"
    },
    {
     "data": {
      "text/plain": [
       "<Figure size 432x288 with 0 Axes>"
      ]
     },
     "metadata": {},
     "output_type": "display_data"
    },
    {
     "data": {
      "text/plain": [
       "<Figure size 432x288 with 0 Axes>"
      ]
     },
     "metadata": {},
     "output_type": "display_data"
    },
    {
     "data": {
      "text/plain": [
       "<Figure size 432x288 with 0 Axes>"
      ]
     },
     "metadata": {},
     "output_type": "display_data"
    },
    {
     "data": {
      "text/plain": [
       "<Figure size 432x288 with 0 Axes>"
      ]
     },
     "metadata": {},
     "output_type": "display_data"
    },
    {
     "data": {
      "text/plain": [
       "<Figure size 432x288 with 0 Axes>"
      ]
     },
     "metadata": {},
     "output_type": "display_data"
    },
    {
     "data": {
      "text/plain": [
       "<Figure size 432x288 with 0 Axes>"
      ]
     },
     "metadata": {},
     "output_type": "display_data"
    },
    {
     "data": {
      "text/plain": [
       "<Figure size 432x288 with 0 Axes>"
      ]
     },
     "metadata": {},
     "output_type": "display_data"
    },
    {
     "data": {
      "text/plain": [
       "<Figure size 432x288 with 0 Axes>"
      ]
     },
     "metadata": {},
     "output_type": "display_data"
    },
    {
     "data": {
      "text/plain": [
       "<Figure size 432x288 with 0 Axes>"
      ]
     },
     "metadata": {},
     "output_type": "display_data"
    },
    {
     "data": {
      "text/plain": [
       "<Figure size 432x288 with 0 Axes>"
      ]
     },
     "metadata": {},
     "output_type": "display_data"
    },
    {
     "data": {
      "text/plain": [
       "<Figure size 432x288 with 0 Axes>"
      ]
     },
     "metadata": {},
     "output_type": "display_data"
    },
    {
     "data": {
      "text/plain": [
       "<Figure size 432x288 with 0 Axes>"
      ]
     },
     "metadata": {},
     "output_type": "display_data"
    },
    {
     "data": {
      "text/plain": [
       "<Figure size 432x288 with 0 Axes>"
      ]
     },
     "metadata": {},
     "output_type": "display_data"
    },
    {
     "data": {
      "text/plain": [
       "<Figure size 432x288 with 0 Axes>"
      ]
     },
     "metadata": {},
     "output_type": "display_data"
    },
    {
     "data": {
      "text/plain": [
       "<Figure size 432x288 with 0 Axes>"
      ]
     },
     "metadata": {},
     "output_type": "display_data"
    },
    {
     "data": {
      "text/plain": [
       "<Figure size 432x288 with 0 Axes>"
      ]
     },
     "metadata": {},
     "output_type": "display_data"
    },
    {
     "data": {
      "text/plain": [
       "<Figure size 432x288 with 0 Axes>"
      ]
     },
     "metadata": {},
     "output_type": "display_data"
    },
    {
     "data": {
      "text/plain": [
       "<Figure size 432x288 with 0 Axes>"
      ]
     },
     "metadata": {},
     "output_type": "display_data"
    },
    {
     "data": {
      "text/plain": [
       "<Figure size 432x288 with 0 Axes>"
      ]
     },
     "metadata": {},
     "output_type": "display_data"
    },
    {
     "data": {
      "text/plain": [
       "<Figure size 432x288 with 0 Axes>"
      ]
     },
     "metadata": {},
     "output_type": "display_data"
    },
    {
     "data": {
      "text/plain": [
       "<Figure size 432x288 with 0 Axes>"
      ]
     },
     "metadata": {},
     "output_type": "display_data"
    },
    {
     "data": {
      "text/plain": [
       "<Figure size 432x288 with 0 Axes>"
      ]
     },
     "metadata": {},
     "output_type": "display_data"
    },
    {
     "data": {
      "text/plain": [
       "<Figure size 432x288 with 0 Axes>"
      ]
     },
     "metadata": {},
     "output_type": "display_data"
    },
    {
     "data": {
      "text/plain": [
       "<Figure size 432x288 with 0 Axes>"
      ]
     },
     "metadata": {},
     "output_type": "display_data"
    },
    {
     "data": {
      "text/plain": [
       "<Figure size 432x288 with 0 Axes>"
      ]
     },
     "metadata": {},
     "output_type": "display_data"
    },
    {
     "data": {
      "text/plain": [
       "<Figure size 432x288 with 0 Axes>"
      ]
     },
     "metadata": {},
     "output_type": "display_data"
    },
    {
     "data": {
      "text/plain": [
       "<Figure size 432x288 with 0 Axes>"
      ]
     },
     "metadata": {},
     "output_type": "display_data"
    },
    {
     "data": {
      "text/plain": [
       "<Figure size 432x288 with 0 Axes>"
      ]
     },
     "metadata": {},
     "output_type": "display_data"
    },
    {
     "data": {
      "text/plain": [
       "<Figure size 432x288 with 0 Axes>"
      ]
     },
     "metadata": {},
     "output_type": "display_data"
    },
    {
     "data": {
      "text/plain": [
       "<Figure size 432x288 with 0 Axes>"
      ]
     },
     "metadata": {},
     "output_type": "display_data"
    },
    {
     "data": {
      "text/plain": [
       "<Figure size 432x288 with 0 Axes>"
      ]
     },
     "metadata": {},
     "output_type": "display_data"
    },
    {
     "data": {
      "text/plain": [
       "<Figure size 432x288 with 0 Axes>"
      ]
     },
     "metadata": {},
     "output_type": "display_data"
    },
    {
     "data": {
      "text/plain": [
       "<Figure size 432x288 with 0 Axes>"
      ]
     },
     "metadata": {},
     "output_type": "display_data"
    },
    {
     "data": {
      "text/plain": [
       "<Figure size 432x288 with 0 Axes>"
      ]
     },
     "metadata": {},
     "output_type": "display_data"
    },
    {
     "data": {
      "text/plain": [
       "<Figure size 432x288 with 0 Axes>"
      ]
     },
     "metadata": {},
     "output_type": "display_data"
    },
    {
     "data": {
      "text/plain": [
       "<Figure size 432x288 with 0 Axes>"
      ]
     },
     "metadata": {},
     "output_type": "display_data"
    },
    {
     "data": {
      "text/plain": [
       "<Figure size 432x288 with 0 Axes>"
      ]
     },
     "metadata": {},
     "output_type": "display_data"
    },
    {
     "data": {
      "text/plain": [
       "<Figure size 432x288 with 0 Axes>"
      ]
     },
     "metadata": {},
     "output_type": "display_data"
    },
    {
     "data": {
      "text/plain": [
       "<Figure size 432x288 with 0 Axes>"
      ]
     },
     "metadata": {},
     "output_type": "display_data"
    },
    {
     "data": {
      "text/plain": [
       "<Figure size 432x288 with 0 Axes>"
      ]
     },
     "metadata": {},
     "output_type": "display_data"
    },
    {
     "data": {
      "text/plain": [
       "<Figure size 432x288 with 0 Axes>"
      ]
     },
     "metadata": {},
     "output_type": "display_data"
    },
    {
     "data": {
      "text/plain": [
       "<Figure size 432x288 with 0 Axes>"
      ]
     },
     "metadata": {},
     "output_type": "display_data"
    },
    {
     "data": {
      "text/plain": [
       "<Figure size 432x288 with 0 Axes>"
      ]
     },
     "metadata": {},
     "output_type": "display_data"
    },
    {
     "data": {
      "text/plain": [
       "<Figure size 432x288 with 0 Axes>"
      ]
     },
     "metadata": {},
     "output_type": "display_data"
    },
    {
     "data": {
      "text/plain": [
       "<Figure size 432x288 with 0 Axes>"
      ]
     },
     "metadata": {},
     "output_type": "display_data"
    },
    {
     "data": {
      "text/plain": [
       "<Figure size 432x288 with 0 Axes>"
      ]
     },
     "metadata": {},
     "output_type": "display_data"
    },
    {
     "data": {
      "text/plain": [
       "<Figure size 432x288 with 0 Axes>"
      ]
     },
     "metadata": {},
     "output_type": "display_data"
    },
    {
     "data": {
      "text/plain": [
       "<Figure size 432x288 with 0 Axes>"
      ]
     },
     "metadata": {},
     "output_type": "display_data"
    },
    {
     "data": {
      "text/plain": [
       "<Figure size 432x288 with 0 Axes>"
      ]
     },
     "metadata": {},
     "output_type": "display_data"
    },
    {
     "data": {
      "text/plain": [
       "<Figure size 432x288 with 0 Axes>"
      ]
     },
     "metadata": {},
     "output_type": "display_data"
    },
    {
     "data": {
      "text/plain": [
       "<Figure size 432x288 with 0 Axes>"
      ]
     },
     "metadata": {},
     "output_type": "display_data"
    },
    {
     "data": {
      "text/plain": [
       "<Figure size 432x288 with 0 Axes>"
      ]
     },
     "metadata": {},
     "output_type": "display_data"
    },
    {
     "data": {
      "text/plain": [
       "<Figure size 432x288 with 0 Axes>"
      ]
     },
     "metadata": {},
     "output_type": "display_data"
    },
    {
     "data": {
      "text/plain": [
       "<Figure size 432x288 with 0 Axes>"
      ]
     },
     "metadata": {},
     "output_type": "display_data"
    },
    {
     "data": {
      "text/plain": [
       "<Figure size 432x288 with 0 Axes>"
      ]
     },
     "metadata": {},
     "output_type": "display_data"
    },
    {
     "data": {
      "text/plain": [
       "<Figure size 432x288 with 0 Axes>"
      ]
     },
     "metadata": {},
     "output_type": "display_data"
    },
    {
     "data": {
      "text/plain": [
       "<Figure size 432x288 with 0 Axes>"
      ]
     },
     "metadata": {},
     "output_type": "display_data"
    },
    {
     "data": {
      "text/plain": [
       "<Figure size 432x288 with 0 Axes>"
      ]
     },
     "metadata": {},
     "output_type": "display_data"
    },
    {
     "data": {
      "text/plain": [
       "<Figure size 432x288 with 0 Axes>"
      ]
     },
     "metadata": {},
     "output_type": "display_data"
    },
    {
     "data": {
      "text/plain": [
       "<Figure size 432x288 with 0 Axes>"
      ]
     },
     "metadata": {},
     "output_type": "display_data"
    },
    {
     "data": {
      "text/plain": [
       "<Figure size 432x288 with 0 Axes>"
      ]
     },
     "metadata": {},
     "output_type": "display_data"
    },
    {
     "data": {
      "text/plain": [
       "<Figure size 432x288 with 0 Axes>"
      ]
     },
     "metadata": {},
     "output_type": "display_data"
    },
    {
     "data": {
      "text/plain": [
       "<Figure size 432x288 with 0 Axes>"
      ]
     },
     "metadata": {},
     "output_type": "display_data"
    },
    {
     "data": {
      "text/plain": [
       "<Figure size 432x288 with 0 Axes>"
      ]
     },
     "metadata": {},
     "output_type": "display_data"
    },
    {
     "data": {
      "text/plain": [
       "<Figure size 432x288 with 0 Axes>"
      ]
     },
     "metadata": {},
     "output_type": "display_data"
    }
   ],
   "source": [
    "#Hasierako egoera definituko dugu: \n",
    "fig = plt.figure(figsize=(7.5,10.))\n",
    "grid= plt.GridSpec(3, 2, wspace=0.4, hspace=0.3)\n",
    "#fig, axes = plt.subplots(nrows=2, ncols=2,figsize=(8,6),);# sharex=True, sharey=True,;\n",
    "#ax0, ax1, ax2, ax3 = axes.flat\n",
    "\n",
    "ax0=plt.subplot(grid[0, 0])\n",
    "ax1=plt.subplot(grid[0, 1:])\n",
    "ax2=plt.subplot(grid[1, 0])\n",
    "ax3=plt.subplot(grid[1, 1]);\n",
    "ax4=plt.subplot(grid[2,:]);\n",
    "\n",
    "ax0.set_xlabel('k aldiunea');\n",
    "ax0.set_ylabel('x');\n",
    "\n",
    "ax1.set_xlabel('k aldiunea');\n",
    "ax1.set_ylabel(\"x'\");\n",
    "\n",
    "ax2.set_xlabel('k aldiunea');\n",
    "ax2.set_ylabel(u\"\\u03B8\");\n",
    "\n",
    "ax3.set_xlabel('k aldiunea');\n",
    "ax3.set_ylabel(u\"\\u03B8\"\"'\");\n",
    "\n",
    "ax4.set_xlabel('k aldiunea');\n",
    "ax4.set_ylabel(\"u\");\n",
    "\n",
    "kont=2\n",
    "for j,s in zip([[1, 0.0, 100, 0.0],[100, 0.0, 1, 0.0]], [\"Q=diag([1,0,100,0])\",\"Q=diag([100,0,1,0])\"]):\n",
    "    kont=kont+1\n",
    "    Q = np.diag(j)\n",
    "    print(Q)\n",
    "    R = np.diag([1])\n",
    "    x0 = np.array([\n",
    "        [0.0],\n",
    "        [0.0],\n",
    "        [0.3],\n",
    "        [0.3]\n",
    "        ])\n",
    "\n",
    "    x = np.copy(x0)\n",
    "    N=70\n",
    "    u_gorde=[]\n",
    "    x_gorde=[]\n",
    "    dx_gorde=[]\n",
    "    theta_gorde=[]\n",
    "    dtheta_gorde=[]\n",
    "    k=[]\n",
    "    \n",
    "    for i in range(N):\n",
    "        figure = plt.figure()\n",
    "        ox, dx, otheta, dtheta, ou = mpc_control(x,Q,R)\n",
    "        u = ou[0] #Gordetzen dugu inplementatuko dugun kontrol seinalea\n",
    "        u_gorde.append(u)\n",
    "\n",
    "        k.append(i)\n",
    "        x = simulation(x, u) #Gure xberria kalkulatzen dugu \n",
    "        x_gorde.append(x[0])\n",
    "        dx_gorde.append(x[1])\n",
    "        theta_gorde.append(x[2])\n",
    "        dtheta_gorde.append(x[3])\n",
    "        if animation:\n",
    "            px = float(x[0]) #x posizioa\n",
    "            theta = float(x[2]) #theta angelua \n",
    "            show_cart(px, theta) #posizioan karritoa irudikatu \n",
    "            plt.xlim([-5.0, 2.0]) #x-ren ardatzaren muturrak definitu\n",
    "            plt.ylim([0.0,3])\n",
    "        \n",
    "        \n",
    "            figure.savefig(os.path.join(os.path.expanduser(\"~\"),\"Desktop\",\"gif1\"+str(kont),str(i)+\".png\"),format=\"png\"); #irudia gordeko dugu\n",
    "            plt.clf() #borratu irudi berria sortzeko \n",
    "\n",
    "    plt.tight_layout();\n",
    "    fig.subplots_adjust(hspace=0.4, wspace=0.4);\n",
    "    ax0.plot(k,x_gorde)\n",
    "    ax1.plot(k,dx_gorde)\n",
    "    ax2.plot(k,theta_gorde)\n",
    "    ax3.plot(k,dtheta_gorde)\n",
    "    ax4.plot(k,u_gorde,label=s)\n",
    "    \n",
    "    print(min(x_gorde), max(x_gorde))\n",
    "    print(min(dx_gorde), max(dx_gorde))\n",
    "    print(min(theta_gorde), max(theta_gorde))\n",
    "    print(min(dtheta_gorde), max(dtheta_gorde))\n",
    "    print(min(u_gorde), max(u_gorde))\n",
    "    \n",
    "    main =os.path.join(os.path.expanduser(\"~\"),\"Desktop\",\"gif1\"+str(kont))\n",
    "    images = list() #lista batean irudi desberdinak gordetzen ditugu \n",
    "    for i in range(N):\n",
    "        images.append(imageio.imread(os.path.join(main,str(i)+\".png\")))\n",
    "    imageio.mimsave(os.path.join(main,\"prueba1.gif\"), images,duration=0.1)\n",
    "    \n",
    "fig.legend(loc=\"lower right\")\n",
    "fig.savefig(os.path.join(os.path.expanduser(\"~\"),\"Desktop\",\"gif1\",\"magnitudeak_2.png\"),format=\"png\",dpi = 150);\n",
    "\n"
   ]
  },
  {
   "cell_type": "code",
   "execution_count": null,
   "metadata": {},
   "outputs": [],
   "source": []
  }
 ],
 "metadata": {
  "kernelspec": {
   "display_name": "Python 3",
   "language": "python",
   "name": "python3"
  },
  "language_info": {
   "codemirror_mode": {
    "name": "ipython",
    "version": 3
   },
   "file_extension": ".py",
   "mimetype": "text/x-python",
   "name": "python",
   "nbconvert_exporter": "python",
   "pygments_lexer": "ipython3",
   "version": "3.7.3"
  }
 },
 "nbformat": 4,
 "nbformat_minor": 2
}
