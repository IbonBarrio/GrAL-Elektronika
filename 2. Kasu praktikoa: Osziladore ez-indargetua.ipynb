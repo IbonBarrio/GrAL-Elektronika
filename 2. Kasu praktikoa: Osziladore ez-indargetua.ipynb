{
 "cells": [
  {
   "cell_type": "code",
   "execution_count": 1,
   "metadata": {},
   "outputs": [],
   "source": [
    "import matplotlib.pyplot as plt \n",
    "import numpy as np \n",
    "import time\n",
    "import os\n",
    "import control\n",
    "from scipy import signal\n",
    "from numpy import array\n",
    "from numpy import matmul \n",
    "from numpy.linalg import inv\n",
    "from numpy import linalg as LA"
   ]
  },
  {
   "cell_type": "code",
   "execution_count": 2,
   "metadata": {},
   "outputs": [
    {
     "name": "stdout",
     "output_type": "stream",
     "text": [
      "Am model matrizea \n",
      " [[ 0.98006658  0.09933467]\n",
      " [-0.39733866  0.98006658]]\n",
      "Bm model matrizea \n",
      " [[ 0.09933467]\n",
      " [-0.01993342]]\n",
      "Cm model matrizea \n",
      " [[0 1]]\n",
      "Phi_Phi matrizea \n",
      " [[6.00673617 4.88534967 3.81504996]\n",
      " [4.88534967 4.00126418 3.1474512 ]\n",
      " [3.81504996 3.1474512  2.4952391 ]]\n",
      "Phi_F matrizea \n",
      " [[ 65.52854721 -25.20993673  -6.17675151]\n",
      " [ 53.12806026 -19.67091025  -4.76060463]\n",
      " [ 41.35533745 -14.69736408  -3.53340249]]\n",
      "Phi_R matrizea \n",
      " [[-6.17675151]\n",
      " [-4.76060463]\n",
      " [-3.53340249]]\n",
      "DeltaU \n",
      " [[-14.95345752]\n",
      " [ 32.47660292]\n",
      " [-19.57318554]]\n",
      "Kmpc \n",
      " [ 17.90641504 -39.06643175 -29.96586053]\n",
      "Balio propioak begizta itxian\n",
      " [-1.94644344e-01+0.00000000e+00j  3.41226059e-11+3.03173105e-06j\n",
      "  3.41226059e-11-3.03173105e-06j]\n"
     ]
    }
   ],
   "source": [
    "Am=array([[0,1],[-4,0]])\n",
    "Bm=np.array([[1],[0]])\n",
    "Cm=np.array([[0,1]])\n",
    "Dm=[[0]]\n",
    "Nc=3\n",
    "Np=10\n",
    "dt=0.1\n",
    "\n",
    "#Egin behar dugun lehenengo gauza jarraitutik diskretora pasatu \n",
    "\n",
    "sys_state_space=control.StateSpace(Am, Bm, Cm, Dm)\n",
    "sys_state_discrete= control.c2d(sys_state_space,dt,'zoh')\n",
    "\n",
    "Am=array([[0.98006658, 0.09933467],[-0.39733866, 0.98006658]])\n",
    "Bm=array([[0.09933467],[-0.01993342]])\n",
    "Cm=array([[0,1]])\n",
    "\n",
    "print(\"Am model matrizea \\n\",Am)\n",
    "print(\"Bm model matrizea \\n\",Bm)\n",
    "print(\"Cm model matrizea \\n\",Cm)\n",
    "\n",
    "#Orain kalkulatuko dugu zeintzuk diren sistema zabalduaren matrizeak: \n",
    "#Gogoratu behar dugu (dx=Am x+Bm u) ereduko sistema baldin bada (dx=Ae x +Be deltau) non x=(deltax,y) dugun  \n",
    "\n",
    "if len(Cm)==1 and len(Bm)==1:\n",
    "    m1=1\n",
    "    n1=1\n",
    "    n_in=1\n",
    "else:\n",
    "    [m1,n1]=len(Cm),len(Cm[0])\n",
    "    [n1,n_in]=len(Bm),len(Bm[0])\n",
    "    \n",
    "Ae=np.identity(n1+m1)\n",
    "Ae[0:n1,0:n1]=Am\n",
    "Ae[n1:n1+m1,0:n1]=np.matmul(Cm,Am)\n",
    "Be=np.zeros((n1+m1,n_in))\n",
    "Be[0:n1,:]=Bm\n",
    "Be[n1:n1+m1,:]=np.matmul(Cm,Bm)\n",
    "Ce=np.zeros((m1,m1+n1))\n",
    "Ce[:,n1:n1+m1]=np.eye(m1,m1)\n",
    "\n",
    "#Orain optimizazio prozesua egingo dugu: atal honen helburua deltaU bektorea lortzea da \n",
    "#Hau da behar dugun kontrol seinalea erreferentzia lortzeko \n",
    "#deltaU lortzeko lehenengo zenbait matrize kalkulatu behar ditugu\n",
    "\n",
    "n=n1+m1\n",
    "h=np.reshape(Ce[0,:],(1,len(Ce[0,:])))\n",
    "F=np.matmul(Ce,Ae)\n",
    "\n",
    "for kk in range(1,Np):\n",
    "    h=np.insert(h,kk,np.matmul(h[kk-1,:],Ae),0)\n",
    "    F=np.insert(F,kk,np.matmul(F[kk-1,:],Ae),0)\n",
    "v=np.matmul(h,Be)\n",
    "Phi=np.zeros((Np,Nc))\n",
    "Phi[:,0]=v[:,0]\n",
    "for i in range(1,Nc):\n",
    "    Phi[:,i]=np.concatenate([np.zeros((i,1)),np.reshape(v[0:Np-i,0],(len(v[0:Np-i,0]),1))])[:,0]\n",
    "BarRs=np.ones((Np,1))\n",
    "Phi_Phi=np.matmul(Phi.transpose(),Phi)\n",
    "Phi_F=np.matmul(Phi.transpose(),F)\n",
    "Phi_R=np.matmul(Phi.transpose(),BarRs)\n",
    "print(\"Phi_Phi matrizea \\n\",Phi_Phi)\n",
    "print(\"Phi_F matrizea \\n\",Phi_F)\n",
    "print(\"Phi_R matrizea \\n\",Phi_R)\n",
    "\n",
    "#deltaU hori kalkulatzeko, gure egoera bektorean hasierako baldintzak ipini behar ditugu: \n",
    "state_v=array([[0.1],[0.2],[0.3]])\n",
    "deltaU=matmul(inv(Phi_Phi+0*np.identity(Phi_Phi.shape[0])),Phi_R-matmul(Phi_F,state_v))\n",
    "print(\"DeltaU \\n\",deltaU)\n",
    "\n",
    "#deltaU horrek bi atal ditu: 1) setpoint 2)state feedback u=-Kmpc x\n",
    "\n",
    "setpoint=matmul(inv(Phi_Phi+0*np.identity(Phi_Phi.shape[0])),Phi_R)\n",
    "Ky=setpoint[0] #lehenengo elementua \n",
    "state=matmul(inv(Phi_Phi+0*np.identity(Phi_Phi.shape[0])),Phi_F)\n",
    "Kmpc=state[0] #lehenego ilara\n",
    "print(\"Kmpc \\n\",Kmpc)\n",
    "\n",
    "#Behin Kmpc state feedback kalkulatu dugula begizta itxiko poloak non dauden ikus dezakegu: \n",
    "print(\"Balio propioak begizta itxian\\n\",LA.eigvals(Ae-matmul(Be,np.reshape(Kmpc,(1,3)))))"
   ]
  },
  {
   "cell_type": "markdown",
   "metadata": {},
   "source": [
    "Eredua soilik erabilita askotan ez da nahikoa konportamoldea aurresateko. Hauxe gertatzen da penduluaren angeluaren kasuan. \n",
    "\n",
    "Kasu horietan, observer erabili behar dugu --> Jakin behar dugu non ipini poloak \n",
    "\n",
    "Demagun esaten digutela behatzailearen nahi ditugun poloak 0.1 eta 0.2 direla.  \n"
   ]
  },
  {
   "cell_type": "code",
   "execution_count": 3,
   "metadata": {},
   "outputs": [
    {
     "name": "stdout",
     "output_type": "stream",
     "text": [
      "[[-2.31807543  1.96013316]]\n",
      "[-9.99999985e-05  9.99999997e-05]\n"
     ]
    }
   ],
   "source": [
    "P=array([0.0001,-0.0001])\n",
    "fsf2 = signal.place_poles(Am.transpose(), Cm.transpose(), P)\n",
    "Kobs1=fsf2.gain_matrix\n",
    "print(Kobs1)\n",
    "print(fsf2.computed_poles)"
   ]
  },
  {
   "cell_type": "code",
   "execution_count": 4,
   "metadata": {},
   "outputs": [
    {
     "name": "stdout",
     "output_type": "stream",
     "text": [
      "[[-2.31801085  1.96010697  2.96010697]]\n",
      "[-2.96313107e-06+0.00000000e+00j  1.45789786e-05-7.75274524e-06j\n",
      "  1.45789786e-05+7.75274524e-06j]\n"
     ]
    }
   ],
   "source": [
    "#Observerraren poloen kokapena jakinda, Kobs kalkuatu dezakegu \n",
    "\n",
    "P=array([0,0.000001,0.00001])\n",
    "fsf2 = signal.place_poles(Ae.transpose(), Ce.transpose(), P)\n",
    "Kobs=fsf2.gain_matrix\n",
    "print(Kobs)\n",
    "print(fsf2.computed_poles)"
   ]
  },
  {
   "cell_type": "code",
   "execution_count": 5,
   "metadata": {},
   "outputs": [
    {
     "name": "stdout",
     "output_type": "stream",
     "text": [
      "34.60390162638214\n",
      "10.0\n"
     ]
    },
    {
     "data": {
      "image/png": "[encoded data removed]",
      "text/plain": [
       "<Figure size 576x432 with 2 Axes>"
      ]
     },
     "metadata": {
      "needs_background": "light"
     },
     "output_type": "display_data"
    }
   ],
   "source": [
    "[n1,n_in]=len(Be),len(Be[0])\n",
    "xm=[[0],[0]] #Egoera bektorea \n",
    "xf=np.zeros((n,1)) #Egoera bektorea augmented model \n",
    "Nsim=10 \n",
    "r=np.ones((Nsim,1)) #Lortu nahi dugun erreferentzia, hots, unitatea \n",
    "u=0\n",
    "y=0\n",
    "\n",
    "u1=np.zeros(Nsim) #Hemen gordeko dugu iterazioetan zeharreko kontrol seinalearen balioa \n",
    "y1=np.zeros(Nsim) #Hemen gordeko dugu iterazioetan zeharreko irteera seinalearen balioa \n",
    "\n",
    "k=np.zeros(Nsim)\n",
    "for i in range(0,Nsim):\n",
    "    k[i]=i #Gure iterazioen bektorea (denboraren baliokide diskretoa)\n",
    "\n",
    "fig, axes = plt.subplots(nrows=2, ncols=1,  figsize=(8,6), );# sharex=True, sharey=True,;\n",
    "ax0, ax1 = axes.flat\n",
    "fig.tight_layout()\n",
    "\n",
    "ax0.set_xlabel('k aldiunea');\n",
    "ax0.set_ylabel('Irteera y(k)');\n",
    "#ax0.set_xlim(left_x_lim, right_x_lim); #x ardatza definitu\n",
    "#ax0.set_ylim(left_y_lim, right_y_lim); #y ardatza definitu\n",
    "\n",
    "ax1.set_xlabel('k aldiunea');\n",
    "ax1.set_ylabel('Kontrol seinalea u(k)');\n",
    "#ax1.set_xlim(left_x_lim, right_x_lim); #x ardatza d\n",
    "#ax1.set_ylim(left_y_lim, right_y_lim); #y ardatza definitu\n",
    "\n",
    "j=0\n",
    "for kk in range(0,Nsim):\n",
    "    u1[kk]=u\n",
    "    xm_old=xm\n",
    "    xm=matmul(Am,xm)+Bm*u #Orain gure ereduan sartzen dugu (zabalduan ez)\n",
    "    y=matmul(Cm,xm) #Irteeeraren adierazpena \n",
    "    \n",
    "    xf=np.concatenate((xm-xm_old,y),0) #xf augmented modelaren egoera bektorea \n",
    "    deltaU=matmul(inv(Phi_Phi+j*np.identity(Nc)),Phi_R*r[kk]-matmul(Phi_F,xf)) #iterazio bakoitzean kalkulatu behar dugu berriro ere \n",
    "    deltau=deltaU[0,0] #delatU kalkulatzen da (0,...,Nc-1) baina soilik lehenengo balioa inplementatzen da \n",
    "    \n",
    "    u=u+deltau\n",
    "    y1[kk]=y\n",
    "    \n",
    "print(max(u1))    \n",
    "ax0.plot(k,y1)\n",
    "ax1.step(k,u1,where='post',label=\"saturazio gabe\")\n",
    "\n",
    "#--------------------------------------------------------------------------------------------------------------------------\n",
    "\n",
    "xm=[[0],[0]] #Egoera bektorea \n",
    "xf=np.zeros((n,1)) #Egoera bektorea augmented model \n",
    "Nsim=10\n",
    "r=np.ones((Nsim,1)) #Lortu nahi dugun erreferentzia, hots, unitatea \n",
    "u=0\n",
    "y=0\n",
    "\n",
    "u1=np.zeros(Nsim) #Hemen gordeko dugu iterazioetan zeharreko kontrol seinalearen balioa \n",
    "y1=np.zeros(Nsim) #Hemen gordeko dugu iterazioetan zeharreko irteera seinalearen balioa \n",
    "\n",
    "k=np.zeros(Nsim)\n",
    "for i in range(0,Nsim):\n",
    "    k[i]=i #Gure iterazioen bektorea (denboraren baliokide diskretoa)\n",
    "j=0\n",
    "for kk in range(0,Nsim): \n",
    "\n",
    "    u1[kk]=u\n",
    "    xm_old=xm\n",
    "    xm=matmul(Am,xm)+Bm*u #Orain gure ereduan sartzen dugu (zabalduan ez)\n",
    "    y=matmul(Cm,xm) #Irteeeraren adierazpena \n",
    "    \n",
    "    xf=np.concatenate((xm-xm_old,y),0) #xf augmented modelaren egoera bektorea \n",
    "    deltaU=matmul(inv(Phi_Phi+j*np.identity(Nc)),Phi_R*r[kk]-matmul(Phi_F,xf)) #iterazio bakoitzean kalkulatu behar dugu berriro ere \n",
    "    deltau=deltaU[0,0] #delatU kalkulatzen da (0,...,Nc-1) baina soilik lehenengo balioa inplementatzen da \n",
    "    u=u+deltau\n",
    "    \n",
    "    if (u>10):\n",
    "        u=10\n",
    "        deltau=10-u1[kk-1]\n",
    "    elif (u<-10):\n",
    "        u=-10\n",
    "        deltau=-10-u1[kk-1]\n",
    "\n",
    "    y1[kk]=y\n",
    "\n",
    "print(max(u1))\n",
    "ax0.plot(k,y1)\n",
    "plt.step(k,u1,where='post',label=\"saturazioarekin\")\n",
    "\n",
    "\n",
    "\n",
    "fig.legend(loc=\"lower right\")\n",
    "\n",
    "\n",
    "fig.savefig(os.path.join(os.path.expanduser(\"~\"),\"Desktop\",\"PENDULUA\",\"satu+satugabe.png\"),format=\"png\",dpi = 150);"
   ]
  },
  {
   "cell_type": "code",
   "execution_count": null,
   "metadata": {},
   "outputs": [],
   "source": []
  }
 ],
 "metadata": {
  "kernelspec": {
   "display_name": "Python 3",
   "language": "python",
   "name": "python3"
  },
  "language_info": {
   "codemirror_mode": {
    "name": "ipython",
    "version": 3
   },
   "file_extension": ".py",
   "mimetype": "text/x-python",
   "name": "python",
   "nbconvert_exporter": "python",
   "pygments_lexer": "ipython3",
   "version": "3.7.3"
  }
 },
 "nbformat": 4,
 "nbformat_minor": 2
}
